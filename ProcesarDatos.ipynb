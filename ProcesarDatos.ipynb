{
 "cells": [
  {
   "cell_type": "code",
   "execution_count": 31,
   "id": "c4f7bd9b",
   "metadata": {},
   "outputs": [],
   "source": [
    "import numpy as np\n",
    "import matplotlib as plt\n",
    "import pandas as pd\n",
    "import os\n",
    "import sys"
   ]
  },
  {
   "cell_type": "code",
   "execution_count": 20,
   "id": "f2c13b52",
   "metadata": {},
   "outputs": [
    {
     "name": "stdout",
     "output_type": "stream",
     "text": [
      "['61-66', '8', '19-24', '187-192', '5', '103-108', '235-240', '1', '2', '32', '193-198', '49-54', '35', '4', '169-174', '25-30', '145-150', '97-102', '31', '10', '66', '7', '67-72', '253-258', '55-60', '127-132', '181-186', '13-18', '.ipynb_checkpoints', '73-78', '37-42', '9', '6', '31-36', '229-234', '241-246', '163-168', '211-216', '223-228', '265-270', '36', '7-12', '247-252', '157-162', '79-84', '151-156', '259-264', '85-90', '1-6', '115-120', '199-204', '175-180', '91-96', '205-210', '139-144', '109-114', '43-48', '.git', '3', '217-222', '121-126', '133-138', '34', '33']\n"
     ]
    }
   ],
   "source": [
    "ruta = os.getcwd() + \"\\\\GIIP\"\n",
    "\n",
    "with os.scandir(ruta) as Folder:\n",
    "    Ficheros = [Folder.name for Folder in Folder if Folder.is_dir()]\n",
    "\n",
    "print(Ficheros)"
   ]
  },
  {
   "cell_type": "code",
   "execution_count": 27,
   "id": "ac6c675c",
   "metadata": {},
   "outputs": [
    {
     "name": "stdout",
     "output_type": "stream",
     "text": [
      "\\\\wsl.localhost\\Ubuntu-18.04\\home\\juanubuntu1804\\MODELOS\\MODELOSGIIP\\61-66\\Extract\n"
     ]
    }
   ],
   "source": [
    "Rut_Extract = os.getcwd() + \"\\\\\" + \"61-66\" + \"\\\\Extract\"\n",
    "print(Rut_Extract)"
   ]
  },
  {
   "cell_type": "code",
   "execution_count": 38,
   "id": "b2874724",
   "metadata": {},
   "outputs": [
    {
     "data": {
      "text/plain": [
       "'\\\\\\\\wsl.localhost\\\\Ubuntu-18.04\\\\home\\\\juanubuntu1804\\\\MODELOS\\\\MODELOSGIIP'"
      ]
     },
     "execution_count": 38,
     "metadata": {},
     "output_type": "execute_result"
    }
   ],
   "source": [
    "pwd"
   ]
  },
  {
   "cell_type": "code",
   "execution_count": 53,
   "id": "ceb9af9c",
   "metadata": {},
   "outputs": [
    {
     "ename": "ValueError",
     "evalue": "could not convert string to float: 'FenderFace'",
     "output_type": "error",
     "traceback": [
      "\u001b[1;31m---------------------------------------------------------------------------\u001b[0m",
      "\u001b[1;31mValueError\u001b[0m                                Traceback (most recent call last)",
      "Cell \u001b[1;32mIn[53], line 25\u001b[0m\n\u001b[0;32m     23\u001b[0m \u001b[38;5;28;01mfor\u001b[39;00m line \u001b[38;5;129;01min\u001b[39;00m f:\n\u001b[0;32m     24\u001b[0m     \u001b[38;5;28;01mtry\u001b[39;00m:    \n\u001b[1;32m---> 25\u001b[0m         vals \u001b[38;5;241m=\u001b[39m np\u001b[38;5;241m.\u001b[39marray([ \u001b[38;5;28mfloat\u001b[39m(s) \u001b[38;5;28;01mfor\u001b[39;00m s \u001b[38;5;129;01min\u001b[39;00m line\u001b[38;5;241m.\u001b[39mstrip()\u001b[38;5;241m.\u001b[39msplit(\u001b[38;5;124m'\u001b[39m\u001b[38;5;124m \u001b[39m\u001b[38;5;124m'\u001b[39m) ])\n\u001b[0;32m     26\u001b[0m         \u001b[38;5;28mprint\u001b[39m(vals)\n\u001b[0;32m     27\u001b[0m     \u001b[38;5;28;01mexcept\u001b[39;00m \u001b[38;5;167;01mIOError\u001b[39;00m:\n",
      "Cell \u001b[1;32mIn[53], line 25\u001b[0m, in \u001b[0;36m<listcomp>\u001b[1;34m(.0)\u001b[0m\n\u001b[0;32m     23\u001b[0m \u001b[38;5;28;01mfor\u001b[39;00m line \u001b[38;5;129;01min\u001b[39;00m f:\n\u001b[0;32m     24\u001b[0m     \u001b[38;5;28;01mtry\u001b[39;00m:    \n\u001b[1;32m---> 25\u001b[0m         vals \u001b[38;5;241m=\u001b[39m np\u001b[38;5;241m.\u001b[39marray([ \u001b[38;5;28;43mfloat\u001b[39;49m\u001b[43m(\u001b[49m\u001b[43ms\u001b[49m\u001b[43m)\u001b[49m \u001b[38;5;28;01mfor\u001b[39;00m s \u001b[38;5;129;01min\u001b[39;00m line\u001b[38;5;241m.\u001b[39mstrip()\u001b[38;5;241m.\u001b[39msplit(\u001b[38;5;124m'\u001b[39m\u001b[38;5;124m \u001b[39m\u001b[38;5;124m'\u001b[39m) ])\n\u001b[0;32m     26\u001b[0m         \u001b[38;5;28mprint\u001b[39m(vals)\n\u001b[0;32m     27\u001b[0m     \u001b[38;5;28;01mexcept\u001b[39;00m \u001b[38;5;167;01mIOError\u001b[39;00m:\n",
      "\u001b[1;31mValueError\u001b[0m: could not convert string to float: 'FenderFace'"
     ]
    }
   ],
   "source": [
    "#def read_Extract(filePath):\n",
    "    \n",
    "    # initialize \n",
    "means = np.zeros(4)\n",
    "sigs  = np.zeros(4)\n",
    "N = 0\n",
    "\n",
    "data = []\n",
    "\n",
    "    # collect data\n",
    "#try:\n",
    "f = open(\"Extract\",'r')\n",
    "#f = pd.read_csv (\"Extract\", sep = \" \")\n",
    "#except IOError:\n",
    "    #print(\"Could not open file '{}' for reading\".format(Rut_Extract))\n",
    "    #return tuple()\n",
    "\n",
    "\n",
    "#with f as myfile:\n",
    "#    total_lines = sum(1 for line in myfile)\n",
    "#print(total_lines)\n",
    "\n",
    "for line in f:\n",
    "    try:    \n",
    "        vals = np.array([ float(s) for s in line.strip().split(' ') ])\n",
    "        print(vals)\n",
    "    except IOError:\n",
    "        print(line)\n",
    " \n",
    "    \n",
    "\n",
    " #       N += 1\n",
    " #       means += vals         # collecting x_i\n",
    " #       sigs  += vals*vals    # collecting x_i^2\n",
    "#\n",
    "#        data.append(vals)\n",
    "\n",
    "    # finish up calculations    \n",
    " #   means /= N\n",
    " #   sigs = np.sqrt(sigs/N - means*means)\n",
    "\n",
    " #   for i in range(len(means)):\n",
    " #       print(\"data in column {:2d} -> mean={:12.8f}   stdev={:12.8f}\".format(i, means[i],sigs[i]))\n",
    " #       \n",
    "    # convert data into a multi-dimensional numpy.array\n",
    "    #return np.array(data)"
   ]
  },
  {
   "cell_type": "code",
   "execution_count": null,
   "id": "7ee905b8",
   "metadata": {},
   "outputs": [],
   "source": []
  },
  {
   "cell_type": "code",
   "execution_count": 26,
   "id": "f7231c9d",
   "metadata": {},
   "outputs": [
    {
     "name": "stdout",
     "output_type": "stream",
     "text": [
      "61-66\n",
      "\\\\wsl.localhost\\Ubuntu-18.04\\home\\juanubuntu1804\\MODELOS\\MODELOSGIIP\\61-66\\Aterro\n",
      "\\\\wsl.localhost\\Ubuntu-18.04\\home\\juanubuntu1804\\MODELOS\\MODELOSGIIP\\61-66\\Extract\n",
      "8\n",
      "\\\\wsl.localhost\\Ubuntu-18.04\\home\\juanubuntu1804\\MODELOS\\MODELOSGIIP\\8\\Aterro\n",
      "\\\\wsl.localhost\\Ubuntu-18.04\\home\\juanubuntu1804\\MODELOS\\MODELOSGIIP\\8\\Extract\n",
      "19-24\n",
      "\\\\wsl.localhost\\Ubuntu-18.04\\home\\juanubuntu1804\\MODELOS\\MODELOSGIIP\\19-24\\Aterro\n",
      "\\\\wsl.localhost\\Ubuntu-18.04\\home\\juanubuntu1804\\MODELOS\\MODELOSGIIP\\19-24\\Extract\n",
      "187-192\n",
      "\\\\wsl.localhost\\Ubuntu-18.04\\home\\juanubuntu1804\\MODELOS\\MODELOSGIIP\\187-192\\Aterro\n",
      "\\\\wsl.localhost\\Ubuntu-18.04\\home\\juanubuntu1804\\MODELOS\\MODELOSGIIP\\187-192\\Extract\n",
      "5\n",
      "\\\\wsl.localhost\\Ubuntu-18.04\\home\\juanubuntu1804\\MODELOS\\MODELOSGIIP\\5\\Aterro\n",
      "\\\\wsl.localhost\\Ubuntu-18.04\\home\\juanubuntu1804\\MODELOS\\MODELOSGIIP\\5\\Extract\n",
      "103-108\n",
      "\\\\wsl.localhost\\Ubuntu-18.04\\home\\juanubuntu1804\\MODELOS\\MODELOSGIIP\\103-108\\Aterro\n",
      "\\\\wsl.localhost\\Ubuntu-18.04\\home\\juanubuntu1804\\MODELOS\\MODELOSGIIP\\103-108\\Extract\n",
      "235-240\n",
      "\\\\wsl.localhost\\Ubuntu-18.04\\home\\juanubuntu1804\\MODELOS\\MODELOSGIIP\\235-240\\Aterro\n",
      "\\\\wsl.localhost\\Ubuntu-18.04\\home\\juanubuntu1804\\MODELOS\\MODELOSGIIP\\235-240\\Extract\n",
      "1\n",
      "\\\\wsl.localhost\\Ubuntu-18.04\\home\\juanubuntu1804\\MODELOS\\MODELOSGIIP\\1\\Aterro\n",
      "\\\\wsl.localhost\\Ubuntu-18.04\\home\\juanubuntu1804\\MODELOS\\MODELOSGIIP\\1\\Extract\n",
      "2\n",
      "\\\\wsl.localhost\\Ubuntu-18.04\\home\\juanubuntu1804\\MODELOS\\MODELOSGIIP\\2\\Aterro\n",
      "\\\\wsl.localhost\\Ubuntu-18.04\\home\\juanubuntu1804\\MODELOS\\MODELOSGIIP\\2\\Extract\n",
      "32\n",
      "\\\\wsl.localhost\\Ubuntu-18.04\\home\\juanubuntu1804\\MODELOS\\MODELOSGIIP\\32\\Aterro\n",
      "\\\\wsl.localhost\\Ubuntu-18.04\\home\\juanubuntu1804\\MODELOS\\MODELOSGIIP\\32\\Extract\n",
      "193-198\n",
      "\\\\wsl.localhost\\Ubuntu-18.04\\home\\juanubuntu1804\\MODELOS\\MODELOSGIIP\\193-198\\Aterro\n",
      "\\\\wsl.localhost\\Ubuntu-18.04\\home\\juanubuntu1804\\MODELOS\\MODELOSGIIP\\193-198\\Extract\n",
      "49-54\n",
      "\\\\wsl.localhost\\Ubuntu-18.04\\home\\juanubuntu1804\\MODELOS\\MODELOSGIIP\\49-54\\Aterro\n",
      "\\\\wsl.localhost\\Ubuntu-18.04\\home\\juanubuntu1804\\MODELOS\\MODELOSGIIP\\49-54\\Extract\n",
      "35\n",
      "\\\\wsl.localhost\\Ubuntu-18.04\\home\\juanubuntu1804\\MODELOS\\MODELOSGIIP\\35\\Aterro\n",
      "\\\\wsl.localhost\\Ubuntu-18.04\\home\\juanubuntu1804\\MODELOS\\MODELOSGIIP\\35\\Extract\n",
      "4\n",
      "\\\\wsl.localhost\\Ubuntu-18.04\\home\\juanubuntu1804\\MODELOS\\MODELOSGIIP\\4\\Aterro\n",
      "\\\\wsl.localhost\\Ubuntu-18.04\\home\\juanubuntu1804\\MODELOS\\MODELOSGIIP\\4\\Extract\n",
      "169-174\n",
      "\\\\wsl.localhost\\Ubuntu-18.04\\home\\juanubuntu1804\\MODELOS\\MODELOSGIIP\\169-174\\Aterro\n",
      "\\\\wsl.localhost\\Ubuntu-18.04\\home\\juanubuntu1804\\MODELOS\\MODELOSGIIP\\169-174\\Extract\n",
      "25-30\n",
      "\\\\wsl.localhost\\Ubuntu-18.04\\home\\juanubuntu1804\\MODELOS\\MODELOSGIIP\\25-30\\Aterro\n",
      "\\\\wsl.localhost\\Ubuntu-18.04\\home\\juanubuntu1804\\MODELOS\\MODELOSGIIP\\25-30\\Extract\n",
      "145-150\n",
      "\\\\wsl.localhost\\Ubuntu-18.04\\home\\juanubuntu1804\\MODELOS\\MODELOSGIIP\\145-150\\Aterro\n",
      "\\\\wsl.localhost\\Ubuntu-18.04\\home\\juanubuntu1804\\MODELOS\\MODELOSGIIP\\145-150\\Extract\n",
      "97-102\n",
      "\\\\wsl.localhost\\Ubuntu-18.04\\home\\juanubuntu1804\\MODELOS\\MODELOSGIIP\\97-102\\Aterro\n",
      "\\\\wsl.localhost\\Ubuntu-18.04\\home\\juanubuntu1804\\MODELOS\\MODELOSGIIP\\97-102\\Extract\n",
      "31\n",
      "\\\\wsl.localhost\\Ubuntu-18.04\\home\\juanubuntu1804\\MODELOS\\MODELOSGIIP\\31\\Aterro\n",
      "\\\\wsl.localhost\\Ubuntu-18.04\\home\\juanubuntu1804\\MODELOS\\MODELOSGIIP\\31\\Extract\n",
      "10\n",
      "\\\\wsl.localhost\\Ubuntu-18.04\\home\\juanubuntu1804\\MODELOS\\MODELOSGIIP\\10\\Aterro\n",
      "\\\\wsl.localhost\\Ubuntu-18.04\\home\\juanubuntu1804\\MODELOS\\MODELOSGIIP\\10\\Extract\n",
      "66\n",
      "\\\\wsl.localhost\\Ubuntu-18.04\\home\\juanubuntu1804\\MODELOS\\MODELOSGIIP\\66\\Aterro\n",
      "\\\\wsl.localhost\\Ubuntu-18.04\\home\\juanubuntu1804\\MODELOS\\MODELOSGIIP\\66\\Extract\n",
      "7\n",
      "\\\\wsl.localhost\\Ubuntu-18.04\\home\\juanubuntu1804\\MODELOS\\MODELOSGIIP\\7\\Aterro\n",
      "\\\\wsl.localhost\\Ubuntu-18.04\\home\\juanubuntu1804\\MODELOS\\MODELOSGIIP\\7\\Extract\n",
      "67-72\n",
      "\\\\wsl.localhost\\Ubuntu-18.04\\home\\juanubuntu1804\\MODELOS\\MODELOSGIIP\\67-72\\Aterro\n",
      "\\\\wsl.localhost\\Ubuntu-18.04\\home\\juanubuntu1804\\MODELOS\\MODELOSGIIP\\67-72\\Extract\n",
      "253-258\n",
      "\\\\wsl.localhost\\Ubuntu-18.04\\home\\juanubuntu1804\\MODELOS\\MODELOSGIIP\\253-258\\Aterro\n",
      "\\\\wsl.localhost\\Ubuntu-18.04\\home\\juanubuntu1804\\MODELOS\\MODELOSGIIP\\253-258\\Extract\n",
      "55-60\n",
      "\\\\wsl.localhost\\Ubuntu-18.04\\home\\juanubuntu1804\\MODELOS\\MODELOSGIIP\\55-60\\Aterro\n",
      "\\\\wsl.localhost\\Ubuntu-18.04\\home\\juanubuntu1804\\MODELOS\\MODELOSGIIP\\55-60\\Extract\n",
      "127-132\n",
      "\\\\wsl.localhost\\Ubuntu-18.04\\home\\juanubuntu1804\\MODELOS\\MODELOSGIIP\\127-132\\Aterro\n",
      "\\\\wsl.localhost\\Ubuntu-18.04\\home\\juanubuntu1804\\MODELOS\\MODELOSGIIP\\127-132\\Extract\n",
      "181-186\n",
      "\\\\wsl.localhost\\Ubuntu-18.04\\home\\juanubuntu1804\\MODELOS\\MODELOSGIIP\\181-186\\Aterro\n",
      "\\\\wsl.localhost\\Ubuntu-18.04\\home\\juanubuntu1804\\MODELOS\\MODELOSGIIP\\181-186\\Extract\n",
      "13-18\n",
      "\\\\wsl.localhost\\Ubuntu-18.04\\home\\juanubuntu1804\\MODELOS\\MODELOSGIIP\\13-18\\Aterro\n",
      "\\\\wsl.localhost\\Ubuntu-18.04\\home\\juanubuntu1804\\MODELOS\\MODELOSGIIP\\13-18\\Extract\n",
      ".ipynb_checkpoints\n",
      "\\\\wsl.localhost\\Ubuntu-18.04\\home\\juanubuntu1804\\MODELOS\\MODELOSGIIP\\.ipynb_checkpoints\\Aterro\n",
      "\\\\wsl.localhost\\Ubuntu-18.04\\home\\juanubuntu1804\\MODELOS\\MODELOSGIIP\\.ipynb_checkpoints\\Extract\n",
      "73-78\n",
      "\\\\wsl.localhost\\Ubuntu-18.04\\home\\juanubuntu1804\\MODELOS\\MODELOSGIIP\\73-78\\Aterro\n",
      "\\\\wsl.localhost\\Ubuntu-18.04\\home\\juanubuntu1804\\MODELOS\\MODELOSGIIP\\73-78\\Extract\n",
      "37-42\n",
      "\\\\wsl.localhost\\Ubuntu-18.04\\home\\juanubuntu1804\\MODELOS\\MODELOSGIIP\\37-42\\Aterro\n",
      "\\\\wsl.localhost\\Ubuntu-18.04\\home\\juanubuntu1804\\MODELOS\\MODELOSGIIP\\37-42\\Extract\n",
      "9\n",
      "\\\\wsl.localhost\\Ubuntu-18.04\\home\\juanubuntu1804\\MODELOS\\MODELOSGIIP\\9\\Aterro\n",
      "\\\\wsl.localhost\\Ubuntu-18.04\\home\\juanubuntu1804\\MODELOS\\MODELOSGIIP\\9\\Extract\n",
      "6\n",
      "\\\\wsl.localhost\\Ubuntu-18.04\\home\\juanubuntu1804\\MODELOS\\MODELOSGIIP\\6\\Aterro\n",
      "\\\\wsl.localhost\\Ubuntu-18.04\\home\\juanubuntu1804\\MODELOS\\MODELOSGIIP\\6\\Extract\n",
      "31-36\n",
      "\\\\wsl.localhost\\Ubuntu-18.04\\home\\juanubuntu1804\\MODELOS\\MODELOSGIIP\\31-36\\Aterro\n",
      "\\\\wsl.localhost\\Ubuntu-18.04\\home\\juanubuntu1804\\MODELOS\\MODELOSGIIP\\31-36\\Extract\n",
      "229-234\n",
      "\\\\wsl.localhost\\Ubuntu-18.04\\home\\juanubuntu1804\\MODELOS\\MODELOSGIIP\\229-234\\Aterro\n",
      "\\\\wsl.localhost\\Ubuntu-18.04\\home\\juanubuntu1804\\MODELOS\\MODELOSGIIP\\229-234\\Extract\n",
      "241-246\n",
      "\\\\wsl.localhost\\Ubuntu-18.04\\home\\juanubuntu1804\\MODELOS\\MODELOSGIIP\\241-246\\Aterro\n",
      "\\\\wsl.localhost\\Ubuntu-18.04\\home\\juanubuntu1804\\MODELOS\\MODELOSGIIP\\241-246\\Extract\n",
      "163-168\n",
      "\\\\wsl.localhost\\Ubuntu-18.04\\home\\juanubuntu1804\\MODELOS\\MODELOSGIIP\\163-168\\Aterro\n",
      "\\\\wsl.localhost\\Ubuntu-18.04\\home\\juanubuntu1804\\MODELOS\\MODELOSGIIP\\163-168\\Extract\n",
      "211-216\n",
      "\\\\wsl.localhost\\Ubuntu-18.04\\home\\juanubuntu1804\\MODELOS\\MODELOSGIIP\\211-216\\Aterro\n",
      "\\\\wsl.localhost\\Ubuntu-18.04\\home\\juanubuntu1804\\MODELOS\\MODELOSGIIP\\211-216\\Extract\n",
      "223-228\n",
      "\\\\wsl.localhost\\Ubuntu-18.04\\home\\juanubuntu1804\\MODELOS\\MODELOSGIIP\\223-228\\Aterro\n",
      "\\\\wsl.localhost\\Ubuntu-18.04\\home\\juanubuntu1804\\MODELOS\\MODELOSGIIP\\223-228\\Extract\n",
      "265-270\n",
      "\\\\wsl.localhost\\Ubuntu-18.04\\home\\juanubuntu1804\\MODELOS\\MODELOSGIIP\\265-270\\Aterro\n",
      "\\\\wsl.localhost\\Ubuntu-18.04\\home\\juanubuntu1804\\MODELOS\\MODELOSGIIP\\265-270\\Extract\n",
      "36\n",
      "\\\\wsl.localhost\\Ubuntu-18.04\\home\\juanubuntu1804\\MODELOS\\MODELOSGIIP\\36\\Aterro\n",
      "\\\\wsl.localhost\\Ubuntu-18.04\\home\\juanubuntu1804\\MODELOS\\MODELOSGIIP\\36\\Extract\n",
      "7-12\n",
      "\\\\wsl.localhost\\Ubuntu-18.04\\home\\juanubuntu1804\\MODELOS\\MODELOSGIIP\\7-12\\Aterro\n",
      "\\\\wsl.localhost\\Ubuntu-18.04\\home\\juanubuntu1804\\MODELOS\\MODELOSGIIP\\7-12\\Extract\n",
      "247-252\n",
      "\\\\wsl.localhost\\Ubuntu-18.04\\home\\juanubuntu1804\\MODELOS\\MODELOSGIIP\\247-252\\Aterro\n",
      "\\\\wsl.localhost\\Ubuntu-18.04\\home\\juanubuntu1804\\MODELOS\\MODELOSGIIP\\247-252\\Extract\n",
      "157-162\n",
      "\\\\wsl.localhost\\Ubuntu-18.04\\home\\juanubuntu1804\\MODELOS\\MODELOSGIIP\\157-162\\Aterro\n",
      "\\\\wsl.localhost\\Ubuntu-18.04\\home\\juanubuntu1804\\MODELOS\\MODELOSGIIP\\157-162\\Extract\n",
      "79-84\n",
      "\\\\wsl.localhost\\Ubuntu-18.04\\home\\juanubuntu1804\\MODELOS\\MODELOSGIIP\\79-84\\Aterro\n",
      "\\\\wsl.localhost\\Ubuntu-18.04\\home\\juanubuntu1804\\MODELOS\\MODELOSGIIP\\79-84\\Extract\n",
      "151-156\n",
      "\\\\wsl.localhost\\Ubuntu-18.04\\home\\juanubuntu1804\\MODELOS\\MODELOSGIIP\\151-156\\Aterro\n",
      "\\\\wsl.localhost\\Ubuntu-18.04\\home\\juanubuntu1804\\MODELOS\\MODELOSGIIP\\151-156\\Extract\n",
      "259-264\n",
      "\\\\wsl.localhost\\Ubuntu-18.04\\home\\juanubuntu1804\\MODELOS\\MODELOSGIIP\\259-264\\Aterro\n",
      "\\\\wsl.localhost\\Ubuntu-18.04\\home\\juanubuntu1804\\MODELOS\\MODELOSGIIP\\259-264\\Extract\n",
      "85-90\n",
      "\\\\wsl.localhost\\Ubuntu-18.04\\home\\juanubuntu1804\\MODELOS\\MODELOSGIIP\\85-90\\Aterro\n",
      "\\\\wsl.localhost\\Ubuntu-18.04\\home\\juanubuntu1804\\MODELOS\\MODELOSGIIP\\85-90\\Extract\n",
      "1-6\n",
      "\\\\wsl.localhost\\Ubuntu-18.04\\home\\juanubuntu1804\\MODELOS\\MODELOSGIIP\\1-6\\Aterro\n",
      "\\\\wsl.localhost\\Ubuntu-18.04\\home\\juanubuntu1804\\MODELOS\\MODELOSGIIP\\1-6\\Extract\n",
      "115-120\n",
      "\\\\wsl.localhost\\Ubuntu-18.04\\home\\juanubuntu1804\\MODELOS\\MODELOSGIIP\\115-120\\Aterro\n",
      "\\\\wsl.localhost\\Ubuntu-18.04\\home\\juanubuntu1804\\MODELOS\\MODELOSGIIP\\115-120\\Extract\n",
      "199-204\n",
      "\\\\wsl.localhost\\Ubuntu-18.04\\home\\juanubuntu1804\\MODELOS\\MODELOSGIIP\\199-204\\Aterro\n",
      "\\\\wsl.localhost\\Ubuntu-18.04\\home\\juanubuntu1804\\MODELOS\\MODELOSGIIP\\199-204\\Extract\n",
      "175-180\n",
      "\\\\wsl.localhost\\Ubuntu-18.04\\home\\juanubuntu1804\\MODELOS\\MODELOSGIIP\\175-180\\Aterro\n",
      "\\\\wsl.localhost\\Ubuntu-18.04\\home\\juanubuntu1804\\MODELOS\\MODELOSGIIP\\175-180\\Extract\n",
      "91-96\n",
      "\\\\wsl.localhost\\Ubuntu-18.04\\home\\juanubuntu1804\\MODELOS\\MODELOSGIIP\\91-96\\Aterro\n",
      "\\\\wsl.localhost\\Ubuntu-18.04\\home\\juanubuntu1804\\MODELOS\\MODELOSGIIP\\91-96\\Extract\n",
      "205-210\n",
      "\\\\wsl.localhost\\Ubuntu-18.04\\home\\juanubuntu1804\\MODELOS\\MODELOSGIIP\\205-210\\Aterro\n",
      "\\\\wsl.localhost\\Ubuntu-18.04\\home\\juanubuntu1804\\MODELOS\\MODELOSGIIP\\205-210\\Extract\n",
      "139-144\n",
      "\\\\wsl.localhost\\Ubuntu-18.04\\home\\juanubuntu1804\\MODELOS\\MODELOSGIIP\\139-144\\Aterro\n",
      "\\\\wsl.localhost\\Ubuntu-18.04\\home\\juanubuntu1804\\MODELOS\\MODELOSGIIP\\139-144\\Extract\n",
      "109-114\n",
      "\\\\wsl.localhost\\Ubuntu-18.04\\home\\juanubuntu1804\\MODELOS\\MODELOSGIIP\\109-114\\Aterro\n",
      "\\\\wsl.localhost\\Ubuntu-18.04\\home\\juanubuntu1804\\MODELOS\\MODELOSGIIP\\109-114\\Extract\n",
      "43-48\n",
      "\\\\wsl.localhost\\Ubuntu-18.04\\home\\juanubuntu1804\\MODELOS\\MODELOSGIIP\\43-48\\Aterro\n",
      "\\\\wsl.localhost\\Ubuntu-18.04\\home\\juanubuntu1804\\MODELOS\\MODELOSGIIP\\43-48\\Extract\n",
      ".git\n",
      "\\\\wsl.localhost\\Ubuntu-18.04\\home\\juanubuntu1804\\MODELOS\\MODELOSGIIP\\.git\\Aterro\n",
      "\\\\wsl.localhost\\Ubuntu-18.04\\home\\juanubuntu1804\\MODELOS\\MODELOSGIIP\\.git\\Extract\n",
      "3\n",
      "\\\\wsl.localhost\\Ubuntu-18.04\\home\\juanubuntu1804\\MODELOS\\MODELOSGIIP\\3\\Aterro\n",
      "\\\\wsl.localhost\\Ubuntu-18.04\\home\\juanubuntu1804\\MODELOS\\MODELOSGIIP\\3\\Extract\n",
      "217-222\n",
      "\\\\wsl.localhost\\Ubuntu-18.04\\home\\juanubuntu1804\\MODELOS\\MODELOSGIIP\\217-222\\Aterro\n",
      "\\\\wsl.localhost\\Ubuntu-18.04\\home\\juanubuntu1804\\MODELOS\\MODELOSGIIP\\217-222\\Extract\n",
      "121-126\n",
      "\\\\wsl.localhost\\Ubuntu-18.04\\home\\juanubuntu1804\\MODELOS\\MODELOSGIIP\\121-126\\Aterro\n",
      "\\\\wsl.localhost\\Ubuntu-18.04\\home\\juanubuntu1804\\MODELOS\\MODELOSGIIP\\121-126\\Extract\n",
      "133-138\n",
      "\\\\wsl.localhost\\Ubuntu-18.04\\home\\juanubuntu1804\\MODELOS\\MODELOSGIIP\\133-138\\Aterro\n",
      "\\\\wsl.localhost\\Ubuntu-18.04\\home\\juanubuntu1804\\MODELOS\\MODELOSGIIP\\133-138\\Extract\n",
      "34\n",
      "\\\\wsl.localhost\\Ubuntu-18.04\\home\\juanubuntu1804\\MODELOS\\MODELOSGIIP\\34\\Aterro\n",
      "\\\\wsl.localhost\\Ubuntu-18.04\\home\\juanubuntu1804\\MODELOS\\MODELOSGIIP\\34\\Extract\n",
      "33\n",
      "\\\\wsl.localhost\\Ubuntu-18.04\\home\\juanubuntu1804\\MODELOS\\MODELOSGIIP\\33\\Aterro\n",
      "\\\\wsl.localhost\\Ubuntu-18.04\\home\\juanubuntu1804\\MODELOS\\MODELOSGIIP\\33\\Extract\n"
     ]
    }
   ],
   "source": [
    "for Nom_Fic in Ficheros:\n",
    "    print(Nom_Fic)\n",
    "    Rut_Atero = os.getcwd() + \"\\\\\" + Nom_Fic + \"\\\\AterroExtract\"\n",
    "    Rut_Extract = os.getcwd() + \"\\\\\" + Nom_Fic + \"\\\\Extract\"\n",
    "    print(Rut_Atero)\n",
    "    print(Rut_Extract)"
   ]
  },
  {
   "cell_type": "code",
   "execution_count": 9,
   "id": "4162c2a7",
   "metadata": {},
   "outputs": [],
   "source": [
    "a= np.load(\"ExtractConfNumpy\")"
   ]
  },
  {
   "cell_type": "code",
   "execution_count": 10,
   "id": "c629d281",
   "metadata": {},
   "outputs": [
    {
     "data": {
      "text/plain": [
       "array([[-6.98400000e+05,  0.00000000e+00,  0.00000000e+00,\n",
       "         0.00000000e+00,  0.00000000e+00,  0.00000000e+00,\n",
       "         0.00000000e+00,  0.00000000e+00],\n",
       "       [ 0.00000000e+00, -9.37834267e+06,  0.00000000e+00,\n",
       "         0.00000000e+00,  0.00000000e+00,  0.00000000e+00,\n",
       "         0.00000000e+00,  0.00000000e+00],\n",
       "       [ 0.00000000e+00,  0.00000000e+00, -2.40016540e-09,\n",
       "         1.69135594e-10, -3.04046948e+04, -3.95594384e+03,\n",
       "         3.98480335e-09,  9.97502061e-10],\n",
       "       [ 0.00000000e+00, -7.65024134e-02,  0.00000000e+00,\n",
       "         0.00000000e+00,  0.00000000e+00,  0.00000000e+00,\n",
       "         0.00000000e+00,  0.00000000e+00]])"
      ]
     },
     "execution_count": 10,
     "metadata": {},
     "output_type": "execute_result"
    }
   ],
   "source": [
    "a"
   ]
  },
  {
   "cell_type": "code",
   "execution_count": 25,
   "id": "5bd1fdb6",
   "metadata": {},
   "outputs": [],
   "source": [
    "results=np.zeros((1,9),dtype=float)"
   ]
  },
  {
   "cell_type": "code",
   "execution_count": 22,
   "id": "d9e3b460",
   "metadata": {},
   "outputs": [
    {
     "data": {
      "text/plain": [
       "array([[0., 0., 0., 0., 0., 0., 0., 0.]])"
      ]
     },
     "execution_count": 22,
     "metadata": {},
     "output_type": "execute_result"
    }
   ],
   "source": [
    "b"
   ]
  },
  {
   "cell_type": "code",
   "execution_count": 23,
   "id": "ad42d55e",
   "metadata": {},
   "outputs": [
    {
     "data": {
      "text/plain": [
       "-698399.9999965916"
      ]
     },
     "execution_count": 23,
     "metadata": {},
     "output_type": "execute_result"
    }
   ],
   "source": [
    "a[0][0]"
   ]
  },
  {
   "cell_type": "code",
   "execution_count": 28,
   "id": "262b9b3c",
   "metadata": {},
   "outputs": [
    {
     "data": {
      "text/plain": [
       "array([[-6.98400000e+05, -9.37834267e+06, -2.40016540e-09,\n",
       "         1.69135594e-10, -3.04046948e+04, -3.95594384e+03,\n",
       "         3.98480335e-09,  9.97502061e-10, -7.65024134e-02]])"
      ]
     },
     "execution_count": 28,
     "metadata": {},
     "output_type": "execute_result"
    }
   ],
   "source": [
    "results[0][0]=a[0][0]\n",
    "results[0][1]=a[1][1]\n",
    "results[0][2]=a[2][2]\n",
    "results[0][3]=a[2][3]\n",
    "results[0][4]=a[2][4]\n",
    "results[0][5]=a[2][5]\n",
    "results[0][6]=a[2][6]\n",
    "results[0][7]=a[2][7]\n",
    "results[0][8]=a[3][1]\n",
    "b"
   ]
  },
  {
   "cell_type": "code",
   "execution_count": null,
   "id": "d7146ea5",
   "metadata": {},
   "outputs": [],
   "source": []
  }
 ],
 "metadata": {
  "kernelspec": {
   "display_name": "Python 3 (ipykernel)",
   "language": "python",
   "name": "python3"
  },
  "language_info": {
   "codemirror_mode": {
    "name": "ipython",
    "version": 3
   },
   "file_extension": ".py",
   "mimetype": "text/x-python",
   "name": "python",
   "nbconvert_exporter": "python",
   "pygments_lexer": "ipython3",
   "version": "3.10.11"
  }
 },
 "nbformat": 4,
 "nbformat_minor": 5
}
