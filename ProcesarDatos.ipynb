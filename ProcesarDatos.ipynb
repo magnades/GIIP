{
 "cells": [
  {
   "cell_type": "code",
   "execution_count": 7,
   "id": "c4f7bd9b",
   "metadata": {},
   "outputs": [],
   "source": [
    "import numpy as np\n",
    "import matplotlib as plt\n",
    "import pandas as pd"
   ]
  },
  {
   "cell_type": "code",
   "execution_count": 6,
   "id": "f7231c9d",
   "metadata": {},
   "outputs": [
    {
     "name": "stdout",
     "output_type": "stream",
     "text": [
      " Volume in drive Z has no label.\n",
      " Volume Serial Number is 0000-0000\n",
      "\n",
      " Directory of Z:\\home\\juanubuntu1804\\MODELOS\\MODELOSGIIP\\GIIP\n",
      "\n",
      "11/06/2023  11:12 p. m.    <DIR>          .\n",
      "11/06/2023  11:12 p. m.    <DIR>          ..\n",
      "11/06/2023  11:11 p. m.    <DIR>          .git\n",
      "11/06/2023  11:12 p. m.    <DIR>          .ipynb_checkpoints\n",
      "10/06/2023  09:58 p. m.    <DIR>          1\n",
      "10/06/2023  09:59 p. m.    <DIR>          10\n",
      "10/06/2023  09:59 p. m.    <DIR>          2\n",
      "10/06/2023  09:59 p. m.    <DIR>          3\n",
      "10/06/2023  10:04 p. m.    <DIR>          31\n",
      "10/06/2023  10:04 p. m.    <DIR>          32\n",
      "10/06/2023  10:04 p. m.    <DIR>          33\n",
      "10/06/2023  10:04 p. m.    <DIR>          34\n",
      "10/06/2023  10:04 p. m.    <DIR>          35\n",
      "10/06/2023  10:04 p. m.    <DIR>          36\n",
      "10/06/2023  09:58 p. m.    <DIR>          4\n",
      "10/06/2023  09:59 p. m.    <DIR>          5\n",
      "10/06/2023  09:58 p. m.    <DIR>          6\n",
      "10/06/2023  09:58 p. m.    <DIR>          66\n",
      "10/06/2023  09:59 p. m.    <DIR>          7\n",
      "11/06/2023  07:00 p. m.    <DIR>          8\n",
      "11/06/2023  07:00 p. m.    <DIR>          9\n",
      "11/06/2023  11:11 p. m.               384 ExtractConfNumpy\n",
      "11/06/2023  11:11 p. m.                72 ProcesarDatos.ipynb\n",
      "10/06/2023  09:58 p. m.                20 README.md\n",
      "               3 File(s)            476 bytes\n",
      "              21 Dir(s)  876,060,950,528 bytes free\n"
     ]
    }
   ],
   "source": [
    "ls"
   ]
  },
  {
   "cell_type": "code",
   "execution_count": 9,
   "id": "4162c2a7",
   "metadata": {},
   "outputs": [],
   "source": [
    "a= np.load(\"ExtractConfNumpy\")"
   ]
  },
  {
   "cell_type": "code",
   "execution_count": 10,
   "id": "c629d281",
   "metadata": {},
   "outputs": [
    {
     "data": {
      "text/plain": [
       "array([[-6.98400000e+05,  0.00000000e+00,  0.00000000e+00,\n",
       "         0.00000000e+00,  0.00000000e+00,  0.00000000e+00,\n",
       "         0.00000000e+00,  0.00000000e+00],\n",
       "       [ 0.00000000e+00, -9.37834267e+06,  0.00000000e+00,\n",
       "         0.00000000e+00,  0.00000000e+00,  0.00000000e+00,\n",
       "         0.00000000e+00,  0.00000000e+00],\n",
       "       [ 0.00000000e+00,  0.00000000e+00, -2.40016540e-09,\n",
       "         1.69135594e-10, -3.04046948e+04, -3.95594384e+03,\n",
       "         3.98480335e-09,  9.97502061e-10],\n",
       "       [ 0.00000000e+00, -7.65024134e-02,  0.00000000e+00,\n",
       "         0.00000000e+00,  0.00000000e+00,  0.00000000e+00,\n",
       "         0.00000000e+00,  0.00000000e+00]])"
      ]
     },
     "execution_count": 10,
     "metadata": {},
     "output_type": "execute_result"
    }
   ],
   "source": [
    "a"
   ]
  },
  {
   "cell_type": "code",
   "execution_count": 25,
   "id": "5bd1fdb6",
   "metadata": {},
   "outputs": [],
   "source": [
    "results=np.zeros((1,9),dtype=float)"
   ]
  },
  {
   "cell_type": "code",
   "execution_count": 22,
   "id": "d9e3b460",
   "metadata": {},
   "outputs": [
    {
     "data": {
      "text/plain": [
       "array([[0., 0., 0., 0., 0., 0., 0., 0.]])"
      ]
     },
     "execution_count": 22,
     "metadata": {},
     "output_type": "execute_result"
    }
   ],
   "source": [
    "b"
   ]
  },
  {
   "cell_type": "code",
   "execution_count": 23,
   "id": "ad42d55e",
   "metadata": {},
   "outputs": [
    {
     "data": {
      "text/plain": [
       "-698399.9999965916"
      ]
     },
     "execution_count": 23,
     "metadata": {},
     "output_type": "execute_result"
    }
   ],
   "source": [
    "a[0][0]"
   ]
  },
  {
   "cell_type": "code",
   "execution_count": 28,
   "id": "262b9b3c",
   "metadata": {},
   "outputs": [
    {
     "data": {
      "text/plain": [
       "array([[-6.98400000e+05, -9.37834267e+06, -2.40016540e-09,\n",
       "         1.69135594e-10, -3.04046948e+04, -3.95594384e+03,\n",
       "         3.98480335e-09,  9.97502061e-10, -7.65024134e-02]])"
      ]
     },
     "execution_count": 28,
     "metadata": {},
     "output_type": "execute_result"
    }
   ],
   "source": [
    "results[0][0]=a[0][0]\n",
    "results[0][1]=a[1][1]\n",
    "results[0][2]=a[2][2]\n",
    "results[0][3]=a[2][3]\n",
    "results[0][4]=a[2][4]\n",
    "results[0][5]=a[2][5]\n",
    "results[0][6]=a[2][6]\n",
    "results[0][7]=a[2][7]\n",
    "results[0][8]=a[3][1]\n",
    "b"
   ]
  },
  {
   "cell_type": "code",
   "execution_count": null,
   "id": "d7146ea5",
   "metadata": {},
   "outputs": [],
   "source": []
  }
 ],
 "metadata": {
  "kernelspec": {
   "display_name": "Python 3 (ipykernel)",
   "language": "python",
   "name": "python3"
  },
  "language_info": {
   "codemirror_mode": {
    "name": "ipython",
    "version": 3
   },
   "file_extension": ".py",
   "mimetype": "text/x-python",
   "name": "python",
   "nbconvert_exporter": "python",
   "pygments_lexer": "ipython3",
   "version": "3.10.11"
  }
 },
 "nbformat": 4,
 "nbformat_minor": 5
}
